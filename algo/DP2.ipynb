{
 "cells": [
  {
   "cell_type": "markdown",
   "id": "59307cce-a1af-4d49-8d23-1c9f27ba03a2",
   "metadata": {},
   "source": [
    "## Dp\n",
    "### 11726번 2xn 타일링\n",
    "> https://www.acmicpc.net/problem/11726"
   ]
  },
  {
   "cell_type": "code",
   "execution_count": 18,
   "id": "75118181-0819-4d47-88f1-a3372a31079b",
   "metadata": {},
   "outputs": [
    {
     "name": "stdin",
     "output_type": "stream",
     "text": [
      " 9\n"
     ]
    },
    {
     "name": "stdout",
     "output_type": "stream",
     "text": [
      "55\n"
     ]
    }
   ],
   "source": [
    "n = int(input())\n",
    "\n",
    "d = [0 for _ in range(n+1)]\n",
    "\n",
    "d[1] = 1\n",
    "d[2] = 2\n",
    "\n",
    "\n",
    "for i in range(3, n+1) :\n",
    "    d[i] = d[i-1] + d[i-2]\n",
    "print(d[n]%10007)"
   ]
  },
  {
   "cell_type": "markdown",
   "id": "98e8cdb3-3a4b-424e-8353-b2cdc96b9471",
   "metadata": {},
   "source": [
    "## 2×n 타일링2\n",
    "> https://www.acmicpc.net/problem/11727"
   ]
  },
  {
   "cell_type": "code",
   "execution_count": null,
   "id": "3f5b0b21-c0a6-4db8-a802-b75feaca2e20",
   "metadata": {},
   "outputs": [],
   "source": [
    "n = int(input())\n",
    "\n",
    "d = [0 for _ in range(1001)]\n",
    "\n",
    "d[1] = 1\n",
    "d[2] = 3\n",
    "\n",
    "\n",
    "for i in range(3, n+1) :\n",
    "    d[i] = d[i-1] + d[i-2]*2\n",
    "print(d[n]%10007)"
   ]
  },
  {
   "cell_type": "markdown",
   "id": "26aa40fb-06c4-4191-9060-041d720a0d32",
   "metadata": {},
   "source": [
    "## 1, 2, 3 더하기\n",
    "> https://www.acmicpc.net/problem/9095"
   ]
  },
  {
   "cell_type": "code",
   "execution_count": null,
   "id": "d537ffb1-cc0c-4aed-b5c1-c89cec630e8b",
   "metadata": {},
   "outputs": [
    {
     "name": "stdin",
     "output_type": "stream",
     "text": [
      " 10\n"
     ]
    }
   ],
   "source": [
    "T = int(input())\n",
    "\n",
    "for _ in range(T) :\n",
    "    n = int(input())\n",
    "    d = [0 for _ in range(11)]\n",
    "\n",
    "    d[0] = 1\n",
    "    d[1] = 2\n",
    "    d[2] = 4\n",
    "    for i in range(3, n) :\n",
    "        d[i] = d[i-1] + d[i-2] +d[i-3]\n",
    "\n",
    "    print(d[n-1])"
   ]
  },
  {
   "cell_type": "code",
   "execution_count": 22,
   "id": "81890f47-9aff-4257-a31b-84700eadb5b9",
   "metadata": {},
   "outputs": [
    {
     "data": {
      "text/plain": [
       "[0, 1, 2, 0, 0, 0, 0, 0, 0, 0, 1]"
      ]
     },
     "execution_count": 22,
     "metadata": {},
     "output_type": "execute_result"
    }
   ],
   "source": [
    "d"
   ]
  },
  {
   "cell_type": "code",
   "execution_count": 36,
   "id": "435f944d-90af-4e76-aa4c-6f69cbe74b2a",
   "metadata": {},
   "outputs": [
    {
     "name": "stdin",
     "output_type": "stream",
     "text": [
      " 10\n"
     ]
    },
    {
     "name": "stdout",
     "output_type": "stream",
     "text": [
      "274\n"
     ]
    }
   ],
   "source": [
    "n = int(input())\n",
    "d = [0 for _ in range(n+1)]\n",
    "\n",
    "d[1] = 1\n",
    "d[2] = 2\n",
    "d[3] = 4\n",
    "for i in range(4, n+1) :\n",
    "    d[i] = d[i-1] + d[i-2] +d[i-3]\n",
    "\n",
    "print(d[n])"
   ]
  },
  {
   "cell_type": "code",
   "execution_count": 32,
   "id": "58955dfa-db97-4dc7-8c03-29b5f94eb6b6",
   "metadata": {},
   "outputs": [
    {
     "data": {
      "text/plain": [
       "[0, 1, 2, 4, 7, 12, 20, 33]"
      ]
     },
     "execution_count": 32,
     "metadata": {},
     "output_type": "execute_result"
    }
   ],
   "source": [
    "d\n"
   ]
  },
  {
   "cell_type": "code",
   "execution_count": null,
   "id": "bb4d9e6d-e1cf-4551-9e29-e70e31126b00",
   "metadata": {},
   "outputs": [],
   "source": []
  }
 ],
 "metadata": {
  "kernelspec": {
   "display_name": "Python 3 (ipykernel)",
   "language": "python",
   "name": "python3"
  },
  "language_info": {
   "codemirror_mode": {
    "name": "ipython",
    "version": 3
   },
   "file_extension": ".py",
   "mimetype": "text/x-python",
   "name": "python",
   "nbconvert_exporter": "python",
   "pygments_lexer": "ipython3",
   "version": "3.9.12"
  }
 },
 "nbformat": 4,
 "nbformat_minor": 5
}
