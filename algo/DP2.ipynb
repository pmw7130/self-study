{
 "cells": [
  {
   "cell_type": "markdown",
   "id": "59307cce-a1af-4d49-8d23-1c9f27ba03a2",
   "metadata": {},
   "source": [
    "## Dp\n",
    "### 11726번 2xn 타일링\n",
    "> https://www.acmicpc.net/problem/11726"
   ]
  },
  {
   "cell_type": "code",
   "execution_count": 18,
   "id": "75118181-0819-4d47-88f1-a3372a31079b",
   "metadata": {},
   "outputs": [
    {
     "name": "stdin",
     "output_type": "stream",
     "text": [
      " 9\n"
     ]
    },
    {
     "name": "stdout",
     "output_type": "stream",
     "text": [
      "55\n"
     ]
    }
   ],
   "source": [
    "n = int(input())\n",
    "\n",
    "d = [0 for _ in range(n+1)]\n",
    "\n",
    "d[1] = 1\n",
    "d[2] = 2\n",
    "\n",
    "\n",
    "for i in range(3, n+1) :\n",
    "    d[i] = d[i-1] + d[i-2]\n",
    "print(d[n]%10007)"
   ]
  },
  {
   "cell_type": "markdown",
   "id": "98e8cdb3-3a4b-424e-8353-b2cdc96b9471",
   "metadata": {},
   "source": [
    "## 2×n 타일링2\n",
    "> https://www.acmicpc.net/problem/11727"
   ]
  },
  {
   "cell_type": "code",
   "execution_count": null,
   "id": "3f5b0b21-c0a6-4db8-a802-b75feaca2e20",
   "metadata": {},
   "outputs": [],
   "source": [
    "n = int(input())\n",
    "\n",
    "d = [0 for _ in range(1001)]\n",
    "\n",
    "d[1] = 1\n",
    "d[2] = 3\n",
    "\n",
    "\n",
    "for i in range(3, n+1) :\n",
    "    d[i] = d[i-1] + d[i-2]*2\n",
    "print(d[n]%10007)"
   ]
  },
  {
   "cell_type": "markdown",
   "id": "26aa40fb-06c4-4191-9060-041d720a0d32",
   "metadata": {},
   "source": [
    "## 1, 2, 3 더하기\n",
    "> https://www.acmicpc.net/problem/9095"
   ]
  },
  {
   "cell_type": "code",
   "execution_count": null,
   "id": "d537ffb1-cc0c-4aed-b5c1-c89cec630e8b",
   "metadata": {},
   "outputs": [
    {
     "name": "stdin",
     "output_type": "stream",
     "text": [
      " 10\n"
     ]
    }
   ],
   "source": [
    "T = int(input())\n",
    "\n",
    "for _ in range(T) :\n",
    "    n = int(input())\n",
    "    d = [0 for _ in range(11)]\n",
    "\n",
    "    d[0] = 1\n",
    "    d[1] = 2\n",
    "    d[2] = 4\n",
    "    for i in range(3, n) :\n",
    "        d[i] = d[i-1] + d[i-2] +d[i-3]\n",
    "\n",
    "    print(d[n-1])"
   ]
  },
  {
   "cell_type": "markdown",
   "id": "7728a013-b095-4315-8274-b13b3c4c8156",
   "metadata": {},
   "source": [
    "## 카드 구매하기\n",
    "> https://www.acmicpc.net/problem/11052"
   ]
  },
  {
   "cell_type": "code",
   "execution_count": 6,
   "id": "ae3a6e43-20e5-47a6-a263-83ca5a212dba",
   "metadata": {},
   "outputs": [],
   "source": [
    "N = int(input())\n",
    "p = list(map(int, input().split()))\n",
    "\n",
    "\n",
    "d = [0 for _ in range(N+1)]\n",
    "\n",
    "for i in range(1, N + 1) :\n",
    "    \n",
    "    for j in range(1, i + 1):\n",
    "        d[i] = max(d[i], d[i-j] + p[j-1])\n",
    "print(d[N])"
   ]
  },
  {
   "cell_type": "code",
   "execution_count": 7,
   "id": "d58ab1c4-f592-4f9c-b63a-701df2e12592",
   "metadata": {},
   "outputs": [
    {
     "data": {
      "text/plain": [
       "[0, 5, 10, 15, 20]"
      ]
     },
     "execution_count": 7,
     "metadata": {},
     "output_type": "execute_result"
    }
   ],
   "source": [
    "d"
   ]
  },
  {
   "cell_type": "code",
   "execution_count": null,
   "id": "d09266d7-e021-4010-a5af-6838dadb8aee",
   "metadata": {},
   "outputs": [],
   "source": []
  }
 ],
 "metadata": {
  "kernelspec": {
   "display_name": "Python 3 (ipykernel)",
   "language": "python",
   "name": "python3"
  },
  "language_info": {
   "codemirror_mode": {
    "name": "ipython",
    "version": 3
   },
   "file_extension": ".py",
   "mimetype": "text/x-python",
   "name": "python",
   "nbconvert_exporter": "python",
   "pygments_lexer": "ipython3",
   "version": "3.11.5"
  }
 },
 "nbformat": 4,
 "nbformat_minor": 5
}
