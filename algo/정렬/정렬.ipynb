{
 "cells": [
  {
   "cell_type": "markdown",
   "id": "badc7e3e-6db8-4c66-a5ad-433fdcc70150",
   "metadata": {},
   "source": [
    "## 정렬\n",
    "> https://school.programmers.co.kr/learn/courses/30/lessons/42748?language=python3"
   ]
  },
  {
   "cell_type": "code",
   "execution_count": 1,
   "id": "9790cf89-f220-4a65-98f1-3edab4137fd2",
   "metadata": {
    "tags": []
   },
   "outputs": [],
   "source": [
    "array = [1, 5, 2, 6, 3, 7, 4]\n",
    "commands = [[2, 5, 3], [4, 4, 1], [1, 7, 3]]\n",
    "\n",
    "i, j, k = commands[0]"
   ]
  },
  {
   "cell_type": "code",
   "execution_count": 2,
   "id": "1fbd1fda-6752-4ef6-8f83-746e4f74ba7d",
   "metadata": {
    "tags": []
   },
   "outputs": [
    {
     "name": "stdout",
     "output_type": "stream",
     "text": [
      "2 5 3\n"
     ]
    }
   ],
   "source": [
    "print(i, j, k)"
   ]
  },
  {
   "cell_type": "code",
   "execution_count": 7,
   "id": "21403414-f5ad-46f4-8b6d-9568035c185b",
   "metadata": {
    "tags": []
   },
   "outputs": [
    {
     "data": {
      "text/plain": [
       "5"
      ]
     },
     "execution_count": 7,
     "metadata": {},
     "output_type": "execute_result"
    }
   ],
   "source": [
    "tt = array[i-1 : j]\n",
    "tt.sort()\n",
    "tt[2]"
   ]
  },
  {
   "cell_type": "code",
   "execution_count": 8,
   "id": "39060b81-e02b-4c96-80d1-f7189c8741b9",
   "metadata": {
    "tags": []
   },
   "outputs": [
    {
     "name": "stdout",
     "output_type": "stream",
     "text": [
      "[2, 5, 3]\n",
      "[4, 4, 1]\n",
      "[1, 7, 3]\n"
     ]
    }
   ],
   "source": [
    "for i in commands :\n",
    "    print(i)"
   ]
  },
  {
   "cell_type": "code",
   "execution_count": null,
   "id": "ad9c2fdc-05ee-4e5b-944a-faa4b10ec227",
   "metadata": {},
   "outputs": [],
   "source": [
    "def solution(array, commands):\n",
    "    answer = []\n",
    "    for idx in commands :\n",
    "        i, j, k = idx\n",
    "        temp = array[i-1 : j]\n",
    "        temp.sort()\n",
    "        answer.append(temp[k-1])\n",
    "    return answer"
   ]
  },
  {
   "cell_type": "code",
   "execution_count": null,
   "id": "7afca71f-3b79-487c-ad46-4d1aa4be0c7c",
   "metadata": {},
   "outputs": [],
   "source": []
  },
  {
   "cell_type": "markdown",
   "id": "006be3f9-4f78-4809-8ec3-21bb96ccec60",
   "metadata": {},
   "source": [
    "## 가장 큰 수\n",
    "> https://school.programmers.co.kr/learn/courses/30/lessons/42746"
   ]
  },
  {
   "cell_type": "code",
   "execution_count": 9,
   "id": "b6f06c05-1fa4-4b2d-8bf3-70301f9c0510",
   "metadata": {
    "tags": []
   },
   "outputs": [
    {
     "data": {
      "text/plain": [
       "3"
      ]
     },
     "execution_count": 9,
     "metadata": {},
     "output_type": "execute_result"
    }
   ],
   "source": [
    "max([1,2,3])"
   ]
  },
  {
   "cell_type": "code",
   "execution_count": 10,
   "id": "259d867e-f1c1-436a-b0e3-33bdfc727767",
   "metadata": {
    "tags": []
   },
   "outputs": [
    {
     "data": {
      "text/plain": [
       "6210"
      ]
     },
     "execution_count": 10,
     "metadata": {},
     "output_type": "execute_result"
    }
   ],
   "source": [
    "max([6102, 6210, 1062, 1026, 2610, 2106])"
   ]
  },
  {
   "cell_type": "code",
   "execution_count": 11,
   "id": "63843b82-aaae-482d-b026-f86f26597d94",
   "metadata": {
    "tags": []
   },
   "outputs": [
    {
     "data": {
      "text/plain": [
       "[2, 6, 10]"
      ]
     },
     "execution_count": 11,
     "metadata": {},
     "output_type": "execute_result"
    }
   ],
   "source": [
    "tt = [6, 10, 2]\n",
    "tt.sort()\n",
    "tt"
   ]
  },
  {
   "cell_type": "code",
   "execution_count": null,
   "id": "9ef0d7d7-7455-48df-8012-30b8668b7f4c",
   "metadata": {},
   "outputs": [],
   "source": []
  }
 ],
 "metadata": {
  "kernelspec": {
   "display_name": "Python 3 (ipykernel)",
   "language": "python",
   "name": "python3"
  },
  "language_info": {
   "codemirror_mode": {
    "name": "ipython",
    "version": 3
   },
   "file_extension": ".py",
   "mimetype": "text/x-python",
   "name": "python",
   "nbconvert_exporter": "python",
   "pygments_lexer": "ipython3",
   "version": "3.11.5"
  }
 },
 "nbformat": 4,
 "nbformat_minor": 5
}
