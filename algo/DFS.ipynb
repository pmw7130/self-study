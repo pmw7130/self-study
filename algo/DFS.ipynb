{
 "cells": [
  {
   "cell_type": "markdown",
   "id": "5d489dcf-ad29-49b4-b553-b3c117a55420",
   "metadata": {},
   "source": [
    "## DFS정리 \n",
    "- DFS는 스택이나 재귀함수를 통해서만 구현이 가능하다.\n"
   ]
  },
  {
   "cell_type": "code",
   "execution_count": 2,
   "id": "b397c00d-5e05-45be-ba38-2e98dddcbecf",
   "metadata": {},
   "outputs": [
    {
     "data": {
      "text/plain": [
       "[[False, False, False],\n",
       " [False, False, False],\n",
       " [False, False, False],\n",
       " [False, False, False],\n",
       " [False, False, False]]"
      ]
     },
     "execution_count": 2,
     "metadata": {},
     "output_type": "execute_result"
    }
   ],
   "source": [
    "visited = [[False] * 3] * 5\n",
    "visited"
   ]
  },
  {
   "cell_type": "code",
   "execution_count": 43,
   "id": "d7e778f9-90c5-4c8f-ab7a-e3f653cda05c",
   "metadata": {
    "tags": []
   },
   "outputs": [],
   "source": [
    "answer = 0\n",
    "def dfs(numbers, target, cur, value) :\n",
    "    global answer\n",
    "    \n",
    "    if cur+1 == len(numbers):\n",
    "        \n",
    "        if (value  == target)  or (value  == target):\n",
    "            answer+=1\n",
    "            return\n",
    "        else :\n",
    "            return\n",
    "    \n",
    "   \n",
    "    dfs(numbers, target, cur+1, value + numbers[cur+1])\n",
    "    dfs(numbers, target, cur+1, value - numbers[cur+1])\n",
    "\n",
    "def solution(numbers, target):\n",
    "    dfs(numbers, target, 0, numbers[0])\n",
    "    dfs(numbers, target, 0, -numbers[0])\n",
    "    return answer"
   ]
  },
  {
   "cell_type": "code",
   "execution_count": 9,
   "id": "0704faad-9aff-4921-9957-84954d0efd62",
   "metadata": {},
   "outputs": [],
   "source": [
    "from collections import deque\n",
    "def bfs(numbers, target) :\n",
    "    answer = 0\n",
    "    temp = deque()\n",
    "    temp.append(numbers[0])\n",
    "    \n",
    "    for i in range(1, len(numbers)) :\n",
    "        print(temp)\n",
    "        for j in range(len(temp)) :\n",
    "            num = temp.popleft()\n",
    "            temp.append(num+numbers[i])\n",
    "            temp.append(num-numbers[i])\n",
    "    \n",
    "    \n",
    "    for i in temp:\n",
    "        if i == target :\n",
    "            answer+=1\n",
    "    return answer\n"
   ]
  },
  {
   "cell_type": "code",
   "execution_count": 10,
   "id": "2801a504-7c84-4f12-9efe-2b67fdc81c0e",
   "metadata": {
    "tags": []
   },
   "outputs": [],
   "source": [
    "def solution(numbers, target):\n",
    "    return bfs(numbers, target)"
   ]
  },
  {
   "cell_type": "code",
   "execution_count": 11,
   "id": "a2e71faf-5c1c-412e-a58a-90e7ac4387b4",
   "metadata": {
    "tags": []
   },
   "outputs": [
    {
     "name": "stdout",
     "output_type": "stream",
     "text": [
      "deque([4])\n",
      "deque([5, 3])\n",
      "deque([7, 3, 5, 1])\n"
     ]
    },
    {
     "data": {
      "text/plain": [
       "2"
      ]
     },
     "execution_count": 11,
     "metadata": {},
     "output_type": "execute_result"
    }
   ],
   "source": [
    "numbers = [4, 1, 2, 1]\n",
    "target  = 4\n",
    "\n",
    "solution(numbers, target)"
   ]
  },
  {
   "cell_type": "markdown",
   "id": "8f87a737-c5f0-42df-b880-96aa0c504ea8",
   "metadata": {},
   "source": [
    "## 게임 맵 최단거리\n",
    "> https://school.programmers.co.kr/learn/courses/30/lessons/1844"
   ]
  },
  {
   "cell_type": "code",
   "execution_count": 2,
   "id": "5057a29b-eb41-4366-89b5-3b0de9b9449e",
   "metadata": {
    "tags": []
   },
   "outputs": [],
   "source": [
    "maps = [[1,0,1,1,1],[1,0,1,0,1],[1,0,1,1,1],[1,1,1,0,1],[0,0,0,0,1]]\n",
    "visited = [[False] * len(maps[0])] * len(maps)"
   ]
  },
  {
   "cell_type": "code",
   "execution_count": 3,
   "id": "92f1ff47-8f86-4978-a1f4-5a4447574298",
   "metadata": {
    "tags": []
   },
   "outputs": [
    {
     "data": {
      "text/plain": [
       "[[False, False, False, False, False],\n",
       " [False, False, False, False, False],\n",
       " [False, False, False, False, False],\n",
       " [False, False, False, False, False],\n",
       " [False, False, False, False, False]]"
      ]
     },
     "execution_count": 3,
     "metadata": {},
     "output_type": "execute_result"
    }
   ],
   "source": [
    "visited"
   ]
  },
  {
   "cell_type": "code",
   "execution_count": 4,
   "id": "b29fe7b5-5072-42e4-8536-43bf66379832",
   "metadata": {
    "tags": []
   },
   "outputs": [
    {
     "data": {
      "text/plain": [
       "[[1, 0, 1, 1, 1],\n",
       " [1, 0, 1, 0, 1],\n",
       " [1, 0, 1, 1, 1],\n",
       " [1, 1, 1, 0, 1],\n",
       " [0, 0, 0, 0, 1]]"
      ]
     },
     "execution_count": 4,
     "metadata": {},
     "output_type": "execute_result"
    }
   ],
   "source": [
    "maps"
   ]
  },
  {
   "cell_type": "code",
   "execution_count": 5,
   "id": "7763f4f8-95da-445a-a4e7-99d665b16f67",
   "metadata": {},
   "outputs": [],
   "source": [
    "# 우 좌 하 상\n",
    "rx = [1, -1, 0, 0] \n",
    "ry = [0, 0, 1, -1]"
   ]
  },
  {
   "cell_type": "code",
   "execution_count": 7,
   "id": "995ba653-43ab-4ac8-88eb-04cce904acc5",
   "metadata": {
    "tags": []
   },
   "outputs": [
    {
     "name": "stdout",
     "output_type": "stream",
     "text": [
      "1, 0\n",
      "-1, 0\n",
      "0, 1\n",
      "0, -1\n"
     ]
    }
   ],
   "source": [
    "for i in range(4) :\n",
    "    print(f\"{rx[i]}, {ry[i]}\")"
   ]
  },
  {
   "cell_type": "code",
   "execution_count": null,
   "id": "07049332-18e1-453b-b8c5-669ba79debfd",
   "metadata": {},
   "outputs": [],
   "source": []
  }
 ],
 "metadata": {
  "kernelspec": {
   "display_name": "Python 3 (ipykernel)",
   "language": "python",
   "name": "python3"
  },
  "language_info": {
   "codemirror_mode": {
    "name": "ipython",
    "version": 3
   },
   "file_extension": ".py",
   "mimetype": "text/x-python",
   "name": "python",
   "nbconvert_exporter": "python",
   "pygments_lexer": "ipython3",
   "version": "3.11.5"
  }
 },
 "nbformat": 4,
 "nbformat_minor": 5
}
