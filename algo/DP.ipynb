{
 "cells": [
  {
   "cell_type": "markdown",
   "id": "014301fe-b61f-4300-8b84-2727758dc723",
   "metadata": {},
   "source": [
    "# 1로 만들기\n",
    "> https://www.acmicpc.net/problem/1463"
   ]
  },
  {
   "cell_type": "code",
   "execution_count": 1,
   "id": "d21387f3-e573-4f17-b7bc-13e27463c3f3",
   "metadata": {
    "tags": []
   },
   "outputs": [
    {
     "name": "stdin",
     "output_type": "stream",
     "text": [
      " 3\n"
     ]
    }
   ],
   "source": [
    "X = int(input())"
   ]
  },
  {
   "cell_type": "code",
   "execution_count": 25,
   "id": "a988f0ca-95b8-4e05-9971-8735efe3b199",
   "metadata": {
    "tags": []
   },
   "outputs": [],
   "source": [
    "count = 0\n",
    "def dive(n) :\n",
    "    print(n)\n",
    "    global count\n",
    "    if n == 1 :\n",
    "        return count\n",
    "    if n % 3 == 0:\n",
    "        count+= 1\n",
    "        return dive(n/3)\n",
    "    elif n%2 == 0 :\n",
    "        count+= 1\n",
    "        if (n-1) % 3 == 0 :\n",
    "            return dive(n-1)\n",
    "        else :\n",
    "            return dive(n/2)\n",
    "    else :\n",
    "        count+= 1\n",
    "        return dive(n-1)"
   ]
  },
  {
   "cell_type": "code",
   "execution_count": 21,
   "id": "6196e72b-ef1f-4afb-a23c-75020724dbf7",
   "metadata": {
    "tags": []
   },
   "outputs": [
    {
     "name": "stdout",
     "output_type": "stream",
     "text": [
      "10\n",
      "9\n",
      "3.0\n",
      "1.0\n"
     ]
    },
    {
     "data": {
      "text/plain": [
       "3"
      ]
     },
     "execution_count": 21,
     "metadata": {},
     "output_type": "execute_result"
    }
   ],
   "source": [
    "dive(10)"
   ]
  },
  {
   "cell_type": "code",
   "execution_count": 26,
   "id": "ff50250d-155b-4c73-a20a-1fbef89ed117",
   "metadata": {
    "tags": []
   },
   "outputs": [
    {
     "name": "stdout",
     "output_type": "stream",
     "text": [
      "4\n",
      "3\n",
      "1.0\n"
     ]
    },
    {
     "data": {
      "text/plain": [
       "2"
      ]
     },
     "execution_count": 26,
     "metadata": {},
     "output_type": "execute_result"
    }
   ],
   "source": [
    "dive(4)"
   ]
  },
  {
   "cell_type": "code",
   "execution_count": 28,
   "id": "50c891cd-94e6-4db9-a749-5e8d03cb9ec5",
   "metadata": {
    "tags": []
   },
   "outputs": [],
   "source": [
    "d = [0 for _ in range(X)]\n",
    "\n",
    "def go(n) :\n",
    "    if n == 1 :\n",
    "        return 0\n",
    "    if d[n] > 0 :\n",
    "        return d[n]\n",
    "    d[n] = go(n-1) + 1\n",
    "    \n",
    "    if n % 2 == 0 :\n",
    "        temp = go(n/2) + 1\n",
    "        if d[n] > temp :\n",
    "            d[n] = temp\n",
    "    if n % 3 == 0 :\n",
    "        temp = go(n/3) + 1\n",
    "        if d[n] > temp :\n",
    "            d[n] = temp\n",
    "    return d[n]"
   ]
  },
  {
   "cell_type": "code",
   "execution_count": 29,
   "id": "d843ecaf-9969-444c-b501-f8b0d11d7bcf",
   "metadata": {
    "tags": []
   },
   "outputs": [
    {
     "data": {
      "text/plain": [
       "[0, 0, 0]"
      ]
     },
     "execution_count": 29,
     "metadata": {},
     "output_type": "execute_result"
    }
   ],
   "source": []
  },
  {
   "cell_type": "code",
   "execution_count": null,
   "id": "d88cf5d4-e1c3-44b6-8626-8a64f1f7ddb7",
   "metadata": {},
   "outputs": [],
   "source": []
  },
  {
   "cell_type": "code",
   "execution_count": 7,
   "id": "4eb2f44e-48d1-41b4-89ef-c78ee699979a",
   "metadata": {
    "tags": []
   },
   "outputs": [
    {
     "name": "stdin",
     "output_type": "stream",
     "text": [
      " 3\n"
     ]
    },
    {
     "ename": "NameError",
     "evalue": "name 'dp' is not defined",
     "output_type": "error",
     "traceback": [
      "\u001b[1;31m---------------------------------------------------------------------------\u001b[0m",
      "\u001b[1;31mNameError\u001b[0m                                 Traceback (most recent call last)",
      "Cell \u001b[1;32mIn[7], line 23\u001b[0m\n\u001b[0;32m     21\u001b[0m             d[n] \u001b[38;5;241m=\u001b[39m temp\n\u001b[0;32m     22\u001b[0m     \u001b[38;5;28;01mreturn\u001b[39;00m d[n]\n\u001b[1;32m---> 23\u001b[0m \u001b[38;5;28mprint\u001b[39m(go(X))\n",
      "Cell \u001b[1;32mIn[7], line 10\u001b[0m, in \u001b[0;36mgo\u001b[1;34m(n)\u001b[0m\n\u001b[0;32m      8\u001b[0m     \u001b[38;5;28;01mreturn\u001b[39;00m \u001b[38;5;241m0\u001b[39m\n\u001b[0;32m      9\u001b[0m \u001b[38;5;66;03m# if d[n] > 0 :\u001b[39;00m\n\u001b[1;32m---> 10\u001b[0m \u001b[38;5;28;01mif\u001b[39;00m n \u001b[38;5;129;01min\u001b[39;00m dp\u001b[38;5;241m.\u001b[39mkeys():\n\u001b[0;32m     11\u001b[0m     \u001b[38;5;28;01mreturn\u001b[39;00m d[n]\n\u001b[0;32m     12\u001b[0m d[n] \u001b[38;5;241m=\u001b[39m go(n\u001b[38;5;241m-\u001b[39m\u001b[38;5;241m1\u001b[39m) \u001b[38;5;241m+\u001b[39m \u001b[38;5;241m1\u001b[39m\n",
      "\u001b[1;31mNameError\u001b[0m: name 'dp' is not defined"
     ]
    }
   ],
   "source": [
    "# Top-down\n",
    "X = int(input())\n",
    "# d = [0 for _ in range(X+1)]\n",
    "d = {1 : 0}\n",
    "\n",
    "def go(n) :\n",
    "    # if d[n] > 0 :\n",
    "    if n in d.keys():\n",
    "        return d[n]\n",
    "    d[n] = go(n-1) + 1\n",
    "    \n",
    "    if n % 2 == 0 :\n",
    "        temp = go(int(n/2)) + 1\n",
    "        if d[n] > temp :\n",
    "            d[n] = temp\n",
    "    elif n % 3 == 0 :\n",
    "        temp = go(int(n/3)) + 1\n",
    "        if d[n] > temp :\n",
    "            d[n] = temp\n",
    "    return d[n]\n",
    "print(go(X))"
   ]
  },
  {
   "cell_type": "markdown",
   "id": "cd39839e-8b55-42a6-a1ed-f44f757fdf28",
   "metadata": {},
   "source": [
    "### "
   ]
  },
  {
   "cell_type": "code",
   "execution_count": 4,
   "id": "01303b25-fa03-48f5-8fcb-2505b2ff18e8",
   "metadata": {
    "tags": []
   },
   "outputs": [
    {
     "name": "stdin",
     "output_type": "stream",
     "text": [
      " 100\n"
     ]
    },
    {
     "data": {
      "text/plain": [
       "7"
      ]
     },
     "execution_count": 4,
     "metadata": {},
     "output_type": "execute_result"
    }
   ],
   "source": [
    "# Buttom -up\n",
    "X = int(input())\n",
    "d = [0 for _ in range(X+1)]\n",
    "\n",
    "d[1] = 0\n",
    "\n",
    "for i in range(2, X+1) :\n",
    "    d[i] = d[i-1] + 1\n",
    "    if i% 2 == 0 and( d[i] > (d[int(i/2)] + 1)) :\n",
    "        d[i]  = d[int(i/2)] + 1\n",
    "    if i% 3 == 0 and (d[i] > (d[int(i/3)] + 1)) :\n",
    "        d[i]  = d[int(i/3)] + 1\n",
    "        \n",
    "        \n",
    "d[X]"
   ]
  },
  {
   "cell_type": "code",
   "execution_count": null,
   "id": "7948662e-13b3-4f99-b8c6-9e281b1d1b7b",
   "metadata": {},
   "outputs": [],
   "source": []
  }
 ],
 "metadata": {
  "kernelspec": {
   "display_name": "Python 3 (ipykernel)",
   "language": "python",
   "name": "python3"
  },
  "language_info": {
   "codemirror_mode": {
    "name": "ipython",
    "version": 3
   },
   "file_extension": ".py",
   "mimetype": "text/x-python",
   "name": "python",
   "nbconvert_exporter": "python",
   "pygments_lexer": "ipython3",
   "version": "3.11.5"
  }
 },
 "nbformat": 4,
 "nbformat_minor": 5
}
