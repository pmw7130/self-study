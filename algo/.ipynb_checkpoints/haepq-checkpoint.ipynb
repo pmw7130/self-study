{
 "cells": [
  {
   "cell_type": "markdown",
   "id": "b03dcc0d-960d-4db9-be9e-96768968e850",
   "metadata": {},
   "source": [
    "## heap 문제\n",
    "> https://school.programmers.co.kr/learn/courses/30/lessons/42626"
   ]
  },
  {
   "cell_type": "code",
   "execution_count": 6,
   "id": "79977097-5740-45ad-a528-dd4ea158f0d5",
   "metadata": {
    "tags": []
   },
   "outputs": [
    {
     "name": "stdout",
     "output_type": "stream",
     "text": [
      "2\n"
     ]
    }
   ],
   "source": [
    "import heapq\n",
    "\n",
    "\n",
    "num = 0\n",
    "heapq.heapify(test)\n",
    "while(len(test) >= 2)\n",
    "    if test[0] < k :\n",
    "        min_s = heapq.heappop(test)\n",
    "        min_s2 = heapq.heappop(test)\n",
    "        result = min_s + (min_s2 * 2)\n",
    "        heapq.heappush(test, result)\n",
    "        num+=1\n",
    "    else :\n",
    "        break\n",
    "num = -1\n",
    "print(num)\n"
   ]
  },
  {
   "cell_type": "code",
   "execution_count": 84,
   "id": "eaaad4a6-6ecd-44de-a39d-e29d0679c5aa",
   "metadata": {
    "tags": []
   },
   "outputs": [],
   "source": [
    "def solution(heap, K):\n",
    "    heapq.heapify(heap) \n",
    "    cnt = 0\n",
    "    while heap[0] < K:\n",
    "       \n",
    "        try:\n",
    "            print(heap, heap[0])\n",
    "            heapq.heappush(heap, heapq.heappop(heap) + heapq.heappop(heap) * 2)\n",
    "        except IndexError:\n",
    "            return -1\n",
    "        cnt += 1\n",
    "    return cnt"
   ]
  },
  {
   "cell_type": "code",
   "execution_count": 90,
   "id": "410b420b-0629-4916-87f7-19ab5ae10f75",
   "metadata": {
    "tags": []
   },
   "outputs": [],
   "source": [
    "scoville = [12, 2, 3, 9, 10, 1]\n",
    "K = 7"
   ]
  },
  {
   "cell_type": "code",
   "execution_count": 85,
   "id": "c1712076-fd78-42a0-a242-f2e0fe26d873",
   "metadata": {
    "tags": []
   },
   "outputs": [],
   "source": [
    "scoville = [1, 1, 2, 6]\n",
    "K = 300"
   ]
  },
  {
   "cell_type": "code",
   "execution_count": 72,
   "id": "14ea1367-7095-49d4-ac8b-6dac97bb51a3",
   "metadata": {
    "tags": []
   },
   "outputs": [],
   "source": [
    "scoville = [7,7]\n",
    "K = 7"
   ]
  },
  {
   "cell_type": "code",
   "execution_count": 37,
   "id": "6b5d393e-5872-4bd0-a496-8b48eb61049d",
   "metadata": {
    "tags": []
   },
   "outputs": [],
   "source": [
    "scoville = [1, 1]\n",
    "K = 3"
   ]
  },
  {
   "cell_type": "code",
   "execution_count": 40,
   "id": "80360c3e-d70c-45bd-bb41-bfa389e9e4e5",
   "metadata": {
    "tags": []
   },
   "outputs": [],
   "source": [
    "scoville = [ 1]\n",
    "K = 3"
   ]
  },
  {
   "cell_type": "code",
   "execution_count": 91,
   "id": "ee36f154-a450-40a0-9f2a-b2377ec80b6e",
   "metadata": {
    "tags": []
   },
   "outputs": [
    {
     "name": "stdout",
     "output_type": "stream",
     "text": [
      "[1, 2, 3, 9, 10, 12] 1\n",
      "[3, 5, 10, 12, 9] 3\n",
      "[9, 12, 10, 13] 9\n"
     ]
    },
    {
     "data": {
      "text/plain": [
       "3"
      ]
     },
     "execution_count": 91,
     "metadata": {},
     "output_type": "execute_result"
    }
   ],
   "source": [
    "solution(scoville,  K= 11)"
   ]
  },
  {
   "cell_type": "code",
   "execution_count": null,
   "id": "f184948d-cb3d-4972-97c3-eefcb56fdbdb",
   "metadata": {},
   "outputs": [],
   "source": []
  }
 ],
 "metadata": {
  "kernelspec": {
   "display_name": "Python 3 (ipykernel)",
   "language": "python",
   "name": "python3"
  },
  "language_info": {
   "codemirror_mode": {
    "name": "ipython",
    "version": 3
   },
   "file_extension": ".py",
   "mimetype": "text/x-python",
   "name": "python",
   "nbconvert_exporter": "python",
   "pygments_lexer": "ipython3",
   "version": "3.11.5"
  }
 },
 "nbformat": 4,
 "nbformat_minor": 5
}
