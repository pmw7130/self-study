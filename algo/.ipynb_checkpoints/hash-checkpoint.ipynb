{
 "cells": [
  {
   "cell_type": "code",
   "execution_count": 54,
   "id": "742d4896-338d-42b7-a83f-4b8a1bad4088",
   "metadata": {
    "tags": []
   },
   "outputs": [],
   "source": [
    "# participant = [\"leo\", \"kiki\", \"eden\"]\n",
    "participant = [\"mislav\", \"stanko\", \"mislav\", \"ana\"]\n",
    "# participant = [\"marina\", \"josipa\", \"nikola\", \"vinko\", \"filipa\"]\n",
    "\n",
    "# completion  = [\"eden\", \"kiki\"]\n",
    "completion  = [\"stanko\", \"ana\", \"mislav\"]\n",
    "# completion  = [\"josipa\", \"filipa\", \"marina\", \"nikola\"]"
   ]
  },
  {
   "cell_type": "code",
   "execution_count": 60,
   "id": "ffbc703e-badd-469d-8073-92be43e7ac26",
   "metadata": {
    "tags": []
   },
   "outputs": [
    {
     "name": "stdout",
     "output_type": "stream",
     "text": [
      "mislav\n",
      "stanko\n",
      "mislav\n",
      "ana\n"
     ]
    }
   ],
   "source": [
    "p_dict =  {}\n",
    "for p in participant :\n",
    "    print(p)\n",
    "    if p_dict.get(p)  :\n",
    "        p_dict[p] +=1\n",
    "    else :\n",
    "        p_dict[p] = 1\n",
    "for c in completion :\n",
    "     p_dict[c] -= 1\n",
    "for k in p_dict.keys() :\n",
    "    if p_dict.get(k)==1  :\n",
    "        answer = k\n",
    "        break"
   ]
  },
  {
   "cell_type": "code",
   "execution_count": 61,
   "id": "8cba9624-13e2-44f5-9bf5-76f4c34f6f0a",
   "metadata": {
    "tags": []
   },
   "outputs": [
    {
     "data": {
      "text/plain": [
       "{'mislav': 1, 'stanko': 0, 'ana': 0}"
      ]
     },
     "execution_count": 61,
     "metadata": {},
     "output_type": "execute_result"
    }
   ],
   "source": [
    "p_dict"
   ]
  },
  {
   "cell_type": "code",
   "execution_count": 56,
   "id": "79f4c62b-4d4c-47d8-aee6-da32663a4a80",
   "metadata": {
    "tags": []
   },
   "outputs": [
    {
     "data": {
      "text/plain": [
       "'vinko'"
      ]
     },
     "execution_count": 56,
     "metadata": {},
     "output_type": "execute_result"
    }
   ],
   "source": [
    "answer"
   ]
  },
  {
   "cell_type": "code",
   "execution_count": 52,
   "id": "bd745fd9-9c5e-47f2-bec8-2e5eba0ffaee",
   "metadata": {
    "tags": []
   },
   "outputs": [
    {
     "data": {
      "text/plain": [
       "{'mislav': 2, 'stanko': 1, 'ana': 1}"
      ]
     },
     "execution_count": 52,
     "metadata": {},
     "output_type": "execute_result"
    }
   ],
   "source": [
    "p_dict =  {}\n",
    "for p in participant :\n",
    "    if p_dict.get(p) == 1 :\n",
    "        p_dict[p] +=1\n",
    "    else :\n",
    "        p_dict[p] = 1\n",
    "    \n",
    "p_dict"
   ]
  },
  {
   "cell_type": "code",
   "execution_count": 53,
   "id": "056f0707-cecc-4772-b248-163e48210bd2",
   "metadata": {
    "tags": []
   },
   "outputs": [
    {
     "data": {
      "text/plain": [
       "{'mislav': 1, 'stanko': 0, 'ana': 0}"
      ]
     },
     "execution_count": 53,
     "metadata": {},
     "output_type": "execute_result"
    }
   ],
   "source": [
    "for c in completion :\n",
    "     p_dict[c] -= 1\n",
    "p_dict"
   ]
  },
  {
   "cell_type": "code",
   "execution_count": 36,
   "id": "805d08bd-bfce-4907-b8e0-5fdb69312e12",
   "metadata": {
    "tags": []
   },
   "outputs": [],
   "source": [
    "for k in p_dict.keys() :\n",
    "     if p_dict.get(k)==0 :\n",
    "        answer = k\n",
    "        break"
   ]
  },
  {
   "cell_type": "code",
   "execution_count": 20,
   "id": "2f04e93d-4707-4f41-be2c-b0065ca4bdbe",
   "metadata": {
    "tags": []
   },
   "outputs": [
    {
     "data": {
      "text/plain": [
       "{'mislav': 1, 'stanko': 0, 'ana': 0}"
      ]
     },
     "execution_count": 20,
     "metadata": {},
     "output_type": "execute_result"
    }
   ],
   "source": [
    "p_dict"
   ]
  },
  {
   "cell_type": "code",
   "execution_count": 37,
   "id": "da80379b-820b-4c6c-aa89-d90148e73106",
   "metadata": {
    "tags": []
   },
   "outputs": [
    {
     "data": {
      "text/plain": [
       "'vinko'"
      ]
     },
     "execution_count": 37,
     "metadata": {},
     "output_type": "execute_result"
    }
   ],
   "source": [
    "answer"
   ]
  },
  {
   "cell_type": "code",
   "execution_count": null,
   "id": "73e8b670-1692-465e-af91-e6afcde8dc73",
   "metadata": {},
   "outputs": [],
   "source": []
  }
 ],
 "metadata": {
  "kernelspec": {
   "display_name": "Python 3 (ipykernel)",
   "language": "python",
   "name": "python3"
  },
  "language_info": {
   "codemirror_mode": {
    "name": "ipython",
    "version": 3
   },
   "file_extension": ".py",
   "mimetype": "text/x-python",
   "name": "python",
   "nbconvert_exporter": "python",
   "pygments_lexer": "ipython3",
   "version": "3.11.5"
  }
 },
 "nbformat": 4,
 "nbformat_minor": 5
}
