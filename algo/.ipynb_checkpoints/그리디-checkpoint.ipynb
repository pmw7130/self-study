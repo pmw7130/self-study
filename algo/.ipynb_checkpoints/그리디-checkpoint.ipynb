{
 "cells": [
  {
   "cell_type": "markdown",
   "id": "8513f8d9-de35-4999-9f5c-4abf5171a1b4",
   "metadata": {},
   "source": [
    "### 집가고싶다"
   ]
  },
  {
   "cell_type": "markdown",
   "id": "a2dca04e-e51c-48e7-8cc9-f406e31141b2",
   "metadata": {
    "tags": []
   },
   "source": [
    "## 그리디 알고리즘(탐욕법)\n",
    "\n",
    "- 그리디 알고리즘이란?\n",
    "> 각 단계에서 최적이라고 생각되는 것을 선택해 나가는 방식으로 진행하여 최종적인 해답에 도달하는 알고리즘\n",
    "> 항상 최적의 값을 보장하는 것이 아니라 최적의 값의 근사한 값을 목표로한다.\n",
    "\n",
    "- 주요속성\n",
    "> 1. 탐욕선택 속성이란 각 단계에서 최선의 선택을 했을 때 전체 문제에 대한 최적해를 구할 수 있는 경우\n",
    "> 2. 최적 부분 구조 : 전체 문제의 최적해가 '부분 문제의 최적해로 구성'될 수 있는 경우"
   ]
  },
  {
   "cell_type": "markdown",
   "id": "aa083401-5a5d-48e8-bdf8-2903d4b9c4ac",
   "metadata": {},
   "source": [
    "## 1. 설탕배달(실버4)\n",
    "> https://www.acmicpc.net/problem/2839"
   ]
  },
  {
   "cell_type": "code",
   "execution_count": 65,
   "id": "c41c870e-22fb-417a-b281-83690fbc5de0",
   "metadata": {
    "tags": []
   },
   "outputs": [
    {
     "name": "stdin",
     "output_type": "stream",
     "text": [
      " 11\n"
     ]
    },
    {
     "name": "stdout",
     "output_type": "stream",
     "text": [
      "-1\n"
     ]
    }
   ],
   "source": [
    "N = int(input())\n",
    "temp = 0\n",
    "if N % 5 == 0 :\n",
    "    temp = N//5\n",
    "    \n",
    "if N % 3 == 0 :\n",
    "    if temp == 0 :\n",
    "        temp = N //3\n",
    "    else : \n",
    "        temp = min(temp, N//3)\n",
    "    \n",
    "result = 0\n",
    "while True :\n",
    "    # print(N)\n",
    "    if  N == 0 :\n",
    "        break\n",
    "    if N % 5 != 0 and N % 3 != 0 :\n",
    "        result = -1\n",
    "        break\n",
    "    \n",
    "    if N - 5 >= 0 :\n",
    "        result += 1\n",
    "        N -= 5\n",
    "        continue\n",
    "    \n",
    "    elif N - 3>= 0 :\n",
    "        result += 1\n",
    "        N -= 3\n",
    "\n",
    "if temp == 0 and result == - 1:\n",
    "    print(result)\n",
    "elif temp != 0  and result != -1:\n",
    "    print(min(result, temp))\n",
    "else :\n",
    "    print(temp)"
   ]
  },
  {
   "cell_type": "code",
   "execution_count": 7,
   "id": "832f0eca-fd13-47cb-a662-f2667cfa469b",
   "metadata": {
    "tags": []
   },
   "outputs": [
    {
     "name": "stdin",
     "output_type": "stream",
     "text": [
      " 11\n"
     ]
    },
    {
     "name": "stdout",
     "output_type": "stream",
     "text": [
      "3\n"
     ]
    }
   ],
   "source": [
    "N = int(input())\n",
    "\n",
    "result = 0\n",
    "while True :\n",
    "    if N % 5 == 0 :\n",
    "        num     = N//5\n",
    "        N       = N - (5 * num)\n",
    "        result += num\n",
    "        print(result)\n",
    "        break\n",
    "    \n",
    "    N -= 3\n",
    "    result += 1\n",
    "    \n",
    "    if N < 0 :\n",
    "        print(-1)\n",
    "        break\n",
    "    if N == 0 :\n",
    "        print(result)\n",
    "        break\n",
    "        \n",
    "    "
   ]
  },
  {
   "cell_type": "markdown",
   "id": "80cb2c4b-073a-4da6-af14-1e0cfa3ef7d9",
   "metadata": {},
   "source": [
    "## 2. 큰수의 법칙"
   ]
  },
  {
   "cell_type": "code",
   "execution_count": 1,
   "id": "487b2d4c-ae9f-4384-a8e8-f1d70c25ad81",
   "metadata": {
    "tags": []
   },
   "outputs": [
    {
     "name": "stdin",
     "output_type": "stream",
     "text": [
      " 1 2 3\n",
      " d\n"
     ]
    },
    {
     "ename": "ValueError",
     "evalue": "invalid literal for int() with base 10: 'd'",
     "output_type": "error",
     "traceback": [
      "\u001b[1;31m---------------------------------------------------------------------------\u001b[0m",
      "\u001b[1;31mValueError\u001b[0m                                Traceback (most recent call last)",
      "Cell \u001b[1;32mIn[1], line 2\u001b[0m\n\u001b[0;32m      1\u001b[0m N, M, K \u001b[38;5;241m=\u001b[39m \u001b[38;5;28mmap\u001b[39m(\u001b[38;5;28mint\u001b[39m, \u001b[38;5;28minput\u001b[39m()\u001b[38;5;241m.\u001b[39msplit())\n\u001b[1;32m----> 2\u001b[0m data    \u001b[38;5;241m=\u001b[39m \u001b[38;5;28mlist\u001b[39m(\u001b[38;5;28mmap\u001b[39m(\u001b[38;5;28mint\u001b[39m, \u001b[38;5;28minput\u001b[39m()\u001b[38;5;241m.\u001b[39msplit()))\n",
      "\u001b[1;31mValueError\u001b[0m: invalid literal for int() with base 10: 'd'"
     ]
    }
   ],
   "source": [
    "N, M, K = map(int, input().split())\n",
    "data    = list(map(int, input().split()))"
   ]
  },
  {
   "cell_type": "code",
   "execution_count": 5,
   "id": "f33509bf-ff02-4464-ae6d-f089b427f5bd",
   "metadata": {
    "tags": []
   },
   "outputs": [],
   "source": [
    "N, M, K = 5, 8, 3\n",
    "data    = [2, 4, 5, 4, 6]"
   ]
  },
  {
   "cell_type": "code",
   "execution_count": 12,
   "id": "0c1f1971-f744-4e03-af58-1996b52de4e2",
   "metadata": {
    "tags": []
   },
   "outputs": [
    {
     "name": "stdout",
     "output_type": "stream",
     "text": [
      "1 2 3\n"
     ]
    }
   ],
   "source": [
    "N개의 수 M번 더하기 K번 중복되지 않게\n",
    "1, 2번째 큰수로 왔다갔다하면 되지 않을까라는생각"
   ]
  },
  {
   "cell_type": "code",
   "execution_count": 6,
   "id": "aa18c73d-dbd1-44fd-ae77-5e17cbf0ddc0",
   "metadata": {},
   "outputs": [
    {
     "data": {
      "text/plain": [
       "[2, 4, 4, 5, 6]"
      ]
     },
     "execution_count": 6,
     "metadata": {},
     "output_type": "execute_result"
    }
   ],
   "source": [
    "data.sort()\n",
    "data"
   ]
  },
  {
   "cell_type": "code",
   "execution_count": 14,
   "id": "69317582-6392-45d9-b5da-dde5a4c02234",
   "metadata": {
    "tags": []
   },
   "outputs": [
    {
     "name": "stdout",
     "output_type": "stream",
     "text": [
      "6\n",
      "6\n",
      "6\n",
      "5\n",
      "6\n",
      "6\n",
      "5\n",
      "6\n"
     ]
    },
    {
     "data": {
      "text/plain": [
       "46"
      ]
     },
     "execution_count": 14,
     "metadata": {},
     "output_type": "execute_result"
    }
   ],
   "source": [
    "first  = data[-1]\n",
    "second = data[-2]\n",
    "result = 0\n",
    "k      = K\n",
    "num    = first\n",
    "for i in range(M) :\n",
    "    \n",
    "    if num == second :\n",
    "        num = first\n",
    "    if k == 0 :\n",
    "        k = K\n",
    "        if num == first :\n",
    "            num = second\n",
    "    print(num)\n",
    "    result += num\n",
    "    k      -= 1\n",
    "        \n",
    "result"
   ]
  },
  {
   "cell_type": "code",
   "execution_count": 10,
   "id": "1addf2b9-1232-42c0-b63a-d9f41e556d1a",
   "metadata": {
    "tags": []
   },
   "outputs": [
    {
     "data": {
      "text/plain": [
       "5"
      ]
     },
     "execution_count": 10,
     "metadata": {},
     "output_type": "execute_result"
    }
   ],
   "source": [
    "second"
   ]
  },
  {
   "cell_type": "markdown",
   "id": "65872067-5c7d-4ebc-b14b-a86b0219b700",
   "metadata": {},
   "source": [
    "## 숫자카드게임"
   ]
  },
  {
   "cell_type": "code",
   "execution_count": 24,
   "id": "407c8e52-bfb5-4026-9be8-b620e6dc2287",
   "metadata": {
    "tags": []
   },
   "outputs": [],
   "source": [
    "# TC1\n",
    "N, M   = 3, 3\n",
    "cards  = [[3, 1, 2], [4, 1, 4], [2, 2, 2]]\n",
    "\n"
   ]
  },
  {
   "cell_type": "code",
   "execution_count": 19,
   "id": "c6196b41-c72d-4780-a80d-6d799a2d95a4",
   "metadata": {
    "tags": []
   },
   "outputs": [],
   "source": [
    "# TC2\n",
    "N, M   = 2, 4\n",
    "cards  = [[7, 3, 1, 8], [3, 3, 3, 4]]"
   ]
  },
  {
   "cell_type": "code",
   "execution_count": 25,
   "id": "d9f1da27-1c68-4cce-8090-7795596b80f9",
   "metadata": {
    "tags": []
   },
   "outputs": [
    {
     "name": "stdout",
     "output_type": "stream",
     "text": [
      "2\n"
     ]
    }
   ],
   "source": [
    "min_list = [0] * N\n",
    "for i in range(N) :\n",
    "    min_list[i] = min(cards[i])\n",
    "print(max(min_list))"
   ]
  },
  {
   "cell_type": "markdown",
   "id": "17a4f3e6-52f0-4f82-ad6b-8ab286512e4d",
   "metadata": {},
   "source": [
    "## 1이 될때까지"
   ]
  },
  {
   "cell_type": "code",
   "execution_count": 35,
   "id": "60dee421-769d-4fe3-98ab-ecc83a0200c4",
   "metadata": {
    "tags": []
   },
   "outputs": [],
   "source": [
    "N, K = 17, 4"
   ]
  },
  {
   "cell_type": "code",
   "execution_count": 33,
   "id": "6b775483-4d1c-4c0b-8f43-c4a7c1cb4ed5",
   "metadata": {
    "tags": []
   },
   "outputs": [],
   "source": [
    "N, K = 25, 5"
   ]
  },
  {
   "cell_type": "code",
   "execution_count": 36,
   "id": "62e3c380-2d63-4216-afe9-a88f1507c82a",
   "metadata": {
    "tags": []
   },
   "outputs": [
    {
     "name": "stdout",
     "output_type": "stream",
     "text": [
      "17\n",
      "16\n",
      "4.0\n",
      "1.0\n",
      "3\n"
     ]
    }
   ],
   "source": [
    "k_count = 0\n",
    "\n",
    "while True :\n",
    "    print(N)\n",
    "    if N == 1 :\n",
    "        break\n",
    "    if N % K == 0 :\n",
    "        N = N/K\n",
    "    else :\n",
    "        N = N -1\n",
    "\n",
    "    k_count += 1\n",
    "print(k_count)"
   ]
  },
  {
   "cell_type": "markdown",
   "id": "0bd35cb7-521a-4729-a1a2-3ecc713f22f0",
   "metadata": {},
   "source": [
    "### 5585 거스름돈\n",
    "> ### https://www.acmicpc.net/problem/5585"
   ]
  },
  {
   "cell_type": "code",
   "execution_count": 8,
   "id": "0a6a6c98-493f-45f8-a697-6ee758009357",
   "metadata": {
    "tags": []
   },
   "outputs": [
    {
     "name": "stdin",
     "output_type": "stream",
     "text": [
      " 1\n"
     ]
    },
    {
     "name": "stdout",
     "output_type": "stream",
     "text": [
      "15\n"
     ]
    }
   ],
   "source": [
    "N = int(input())\n",
    "\n",
    "coin_num = 0\n",
    "remain_cost = 1000 - N\n",
    "coin_list = [500, 100, 50, 10, 5, 1]\n",
    "coin_index = 0\n",
    "while True :\n",
    "    if remain_cost >= coin_list[coin_index] :\n",
    "        remain_cost -= coin_list[coin_index]\n",
    "        coin_num += 1\n",
    "    elif remain_cost == 0 :\n",
    "        print(coin_num)\n",
    "        break\n",
    "    else :\n",
    "        coin_index += 1"
   ]
  },
  {
   "cell_type": "markdown",
   "id": "563ca4b0-5e60-464c-b7a4-5cd7a74ab2dc",
   "metadata": {
    "tags": []
   },
   "source": [
    "### 11399번 ATM\n",
    ">### https://www.acmicpc.net/problem/11399"
   ]
  },
  {
   "cell_type": "code",
   "execution_count": 10,
   "id": "435b5d70-3e6c-420f-9906-19ae9bff23c8",
   "metadata": {
    "tags": []
   },
   "outputs": [
    {
     "name": "stdin",
     "output_type": "stream",
     "text": [
      " 5\n",
      " 3 1 4 3 2\n"
     ]
    }
   ],
   "source": [
    "# 5\n",
    "# 3 1 4 3 2\n",
    "N      = int(input())\n",
    "s_time = list(map(int, input().split()))\n",
    "\n",
    "s_time.sort(reverse = True)\n",
    "\n",
    "result = 0\n",
    "for i in s_time :\n",
    "    if i == 0 :\n",
    "        result += s_time[i]\n",
    "    else :\n",
    "        result += (s_time)\n",
    "    result "
   ]
  },
  {
   "cell_type": "code",
   "execution_count": 12,
   "id": "d0290f31-2b81-4dad-8345-9a0197d83493",
   "metadata": {
    "tags": []
   },
   "outputs": [
    {
     "data": {
      "text/plain": [
       "[1, 2, 3, 3, 4]"
      ]
     },
     "execution_count": 12,
     "metadata": {},
     "output_type": "execute_result"
    }
   ],
   "source": [
    "s_time"
   ]
  },
  {
   "cell_type": "code",
   "execution_count": null,
   "id": "b0dd633b-83c2-426e-9ae6-0599c898f847",
   "metadata": {},
   "outputs": [],
   "source": []
  }
 ],
 "metadata": {
  "kernelspec": {
   "display_name": "Python 3 (ipykernel)",
   "language": "python",
   "name": "python3"
  },
  "language_info": {
   "codemirror_mode": {
    "name": "ipython",
    "version": 3
   },
   "file_extension": ".py",
   "mimetype": "text/x-python",
   "name": "python",
   "nbconvert_exporter": "python",
   "pygments_lexer": "ipython3",
   "version": "3.11.5"
  }
 },
 "nbformat": 4,
 "nbformat_minor": 5
}
